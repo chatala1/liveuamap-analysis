{
 "cells": [
  {
   "cell_type": "code",
   "execution_count": 180,
   "id": "7998e184",
   "metadata": {},
   "outputs": [],
   "source": [
    "import json\n",
    "import geopandas as gpd\n",
    "import pandas as pd\n",
    "import numpy as np\n",
    "from shapely.geometry import Polygon, MultiPolygon, shape"
   ]
  },
  {
   "cell_type": "code",
   "execution_count": 181,
   "id": "49df8a0a",
   "metadata": {},
   "outputs": [],
   "source": [
    "with open('data/1645657200.json', 'r') as f:\n",
    "    ex = json.load(f)"
   ]
  },
  {
   "cell_type": "code",
   "execution_count": 182,
   "id": "70ba7fcd",
   "metadata": {},
   "outputs": [],
   "source": [
    "def get_coords(points):\n",
    "    shapes = []\n",
    "    if type(points[0]) is dict:\n",
    "        coords = []\n",
    "        for p in points:\n",
    "            coords.append([p.get('lat'), p.get('lng')])\n",
    "        shapes.append(coords)\n",
    "        return shapes\n",
    "    for p in points:\n",
    "        shapes.append(np.column_stack([p[1::2], p[::2]]))\n",
    "    return shapes\n",
    "\n",
    "shape_dicts = []\n",
    "\n",
    "for field_id, field_dict in ex['fields'].items():\n",
    "    c = get_coords(field_dict['points'])\n",
    "\n",
    "    if len(c) == 0:\n",
    "        # Simple polygon\n",
    "        polygon = Polygon(c[0])\n",
    "    else:\n",
    "        # Multiple polygons, to be combined\n",
    "        polygon = MultiPolygon(Polygon(x) for x in c)\n",
    "    \n",
    "    shape_dict = dict(id=field_id, name=field_dict['name'], geometry=polygon)\n",
    "    \n",
    "    shape_dicts.append(shape_dict)\n",
    "\n",
    "gdf = gpd.GeoDataFrame(shape_dicts)\n",
    "    \n",
    "#df = pd.DataFrame(c[0])\n",
    "\n",
    "#geom = [shape(i['geometry']) for i in occupied]\n",
    "#gdf = gpd.GeoDataFrame({'geometry': geom}, crs='EPSG:4326')\n",
    "# https://stackoverflow.com/questions/38961816/geopandas-set-crs-on-points\n",
    "#gdf = gdf.to_crs('EPSG:3857')  # convert to metric projection\n",
    "# https://gis.stackexchange.com/questions/254413/how-to-fix-hole-lies-outside-shell\n",
    "# https://gis.stackexchange.com/questions/253224/geopandas-buffer-using-geodataframe-while-maintaining-the-dataframe\n",
    "#gdf['geometry'] = gdf.geometry.buffer(0)\n",
    "#joined = gdf.dissolve(by=None)\n",
    "#return float(round(joined.area, 2) / 1e6)\""
   ]
  },
  {
   "cell_type": "code",
   "execution_count": 272,
   "id": "4e32745c",
   "metadata": {},
   "outputs": [],
   "source": [
    "ua_territory = gpd.GeoDataFrame(pd.concat([gdf[0:8], gdf[10:11]]))"
   ]
  },
  {
   "cell_type": "code",
   "execution_count": 273,
   "id": "79709ad4",
   "metadata": {},
   "outputs": [],
   "source": [
    "from ipyleaflet import Map, GeoData"
   ]
  },
  {
   "cell_type": "code",
   "execution_count": 274,
   "id": "e8c24426",
   "metadata": {},
   "outputs": [],
   "source": [
    "m = Map(center=(48.1928465, 37.8562077), zoom=5)"
   ]
  },
  {
   "cell_type": "code",
   "execution_count": 275,
   "id": "f4bf1455",
   "metadata": {},
   "outputs": [],
   "source": [
    "#geo_data = GeoData(geo_dataframe=gpd.GeoDataFrame(pd.concat([gdf[0:8], gdf[13:13]])))\n",
    "geo_data = GeoData(geo_dataframe=ua_territory)"
   ]
  },
  {
   "cell_type": "code",
   "execution_count": 276,
   "id": "d01494fb",
   "metadata": {},
   "outputs": [],
   "source": [
    "m.add_layer(geo_data)"
   ]
  },
  {
   "cell_type": "code",
   "execution_count": 277,
   "id": "d101a5ca",
   "metadata": {},
   "outputs": [
    {
     "data": {
      "application/vnd.jupyter.widget-view+json": {
       "model_id": "074b330568cf4c0eb3aa571314029a45",
       "version_major": 2,
       "version_minor": 0
      },
      "text/plain": [
       "Map(center=[48.1928465, 37.8562077], controls=(ZoomControl(options=['position', 'zoom_in_text', 'zoom_in_title…"
      ]
     },
     "execution_count": 277,
     "metadata": {},
     "output_type": "execute_result"
    }
   ],
   "source": [
    "m"
   ]
  },
  {
   "cell_type": "code",
   "execution_count": 281,
   "id": "5c2b1ec6",
   "metadata": {},
   "outputs": [
    {
     "data": {
      "text/plain": [
       "0     0.167230\n",
       "1     0.247475\n",
       "2     0.186683\n",
       "3     0.426666\n",
       "4     1.030923\n",
       "5     1.655796\n",
       "6     0.060470\n",
       "7     2.007172\n",
       "10    3.062121\n",
       "dtype: float64"
      ]
     },
     "execution_count": 281,
     "metadata": {},
     "output_type": "execute_result"
    }
   ],
   "source": [
    "ua_territory.geometry.area"
   ]
  },
  {
   "cell_type": "code",
   "execution_count": 279,
   "id": "27e167d4",
   "metadata": {},
   "outputs": [
    {
     "data": {
      "text/html": [
       "<div>\n",
       "<style scoped>\n",
       "    .dataframe tbody tr th:only-of-type {\n",
       "        vertical-align: middle;\n",
       "    }\n",
       "\n",
       "    .dataframe tbody tr th {\n",
       "        vertical-align: top;\n",
       "    }\n",
       "\n",
       "    .dataframe thead th {\n",
       "        text-align: right;\n",
       "    }\n",
       "</style>\n",
       "<table border=\"1\" class=\"dataframe\">\n",
       "  <thead>\n",
       "    <tr style=\"text-align: right;\">\n",
       "      <th></th>\n",
       "      <th>id</th>\n",
       "      <th>name</th>\n",
       "      <th>geometry</th>\n",
       "    </tr>\n",
       "  </thead>\n",
       "  <tbody>\n",
       "    <tr>\n",
       "      <th>0</th>\n",
       "      <td>22397871</td>\n",
       "      <td>Russian occupation in Chernihiv region</td>\n",
       "      <td>MULTIPOLYGON (((30.65255 51.34204, 30.69649 51...</td>\n",
       "    </tr>\n",
       "    <tr>\n",
       "      <th>1</th>\n",
       "      <td>22397844</td>\n",
       "      <td>Russian occupation in Kyiv region</td>\n",
       "      <td>MULTIPOLYGON (((29.99079 51.48292, 29.98229 51...</td>\n",
       "    </tr>\n",
       "    <tr>\n",
       "      <th>2</th>\n",
       "      <td>22397831</td>\n",
       "      <td>Russian occupation in Luhansk region</td>\n",
       "      <td>MULTIPOLYGON (((39.69841 49.04973, 39.72519 49...</td>\n",
       "    </tr>\n",
       "    <tr>\n",
       "      <th>3</th>\n",
       "      <td>22397830</td>\n",
       "      <td>Russian occupation in Kharkiv region</td>\n",
       "      <td>MULTIPOLYGON (((35.57099 50.45468, 35.45975 50...</td>\n",
       "    </tr>\n",
       "    <tr>\n",
       "      <th>4</th>\n",
       "      <td>22397828</td>\n",
       "      <td>Russian occupation in Sumy region</td>\n",
       "      <td>MULTIPOLYGON (((34.09059 51.67073, 34.16337 51...</td>\n",
       "    </tr>\n",
       "    <tr>\n",
       "      <th>5</th>\n",
       "      <td>22397843</td>\n",
       "      <td>Russian occupation Kherson region</td>\n",
       "      <td>MULTIPOLYGON (((34.89464 45.75686, 34.95812 45...</td>\n",
       "    </tr>\n",
       "    <tr>\n",
       "      <th>6</th>\n",
       "      <td>22397706</td>\n",
       "      <td>Zmiyiny</td>\n",
       "      <td>MULTIPOLYGON (((30.23988 45.14589, 30.33463 45...</td>\n",
       "    </tr>\n",
       "    <tr>\n",
       "      <th>7</th>\n",
       "      <td>21864893</td>\n",
       "      <td>russiainvadedukraine</td>\n",
       "      <td>MULTIPOLYGON (((39.79403 48.59222, 39.79707 48...</td>\n",
       "    </tr>\n",
       "    <tr>\n",
       "      <th>10</th>\n",
       "      <td>21191074</td>\n",
       "      <td>Occupied Crimea</td>\n",
       "      <td>MULTIPOLYGON (((34.97680 45.69307, 35.03643 45...</td>\n",
       "    </tr>\n",
       "  </tbody>\n",
       "</table>\n",
       "</div>"
      ],
      "text/plain": [
       "          id                                    name  \\\n",
       "0   22397871  Russian occupation in Chernihiv region   \n",
       "1   22397844       Russian occupation in Kyiv region   \n",
       "2   22397831    Russian occupation in Luhansk region   \n",
       "3   22397830    Russian occupation in Kharkiv region   \n",
       "4   22397828       Russian occupation in Sumy region   \n",
       "5   22397843       Russian occupation Kherson region   \n",
       "6   22397706                                 Zmiyiny   \n",
       "7   21864893                    russiainvadedukraine   \n",
       "10  21191074                         Occupied Crimea   \n",
       "\n",
       "                                             geometry  \n",
       "0   MULTIPOLYGON (((30.65255 51.34204, 30.69649 51...  \n",
       "1   MULTIPOLYGON (((29.99079 51.48292, 29.98229 51...  \n",
       "2   MULTIPOLYGON (((39.69841 49.04973, 39.72519 49...  \n",
       "3   MULTIPOLYGON (((35.57099 50.45468, 35.45975 50...  \n",
       "4   MULTIPOLYGON (((34.09059 51.67073, 34.16337 51...  \n",
       "5   MULTIPOLYGON (((34.89464 45.75686, 34.95812 45...  \n",
       "6   MULTIPOLYGON (((30.23988 45.14589, 30.33463 45...  \n",
       "7   MULTIPOLYGON (((39.79403 48.59222, 39.79707 48...  \n",
       "10  MULTIPOLYGON (((34.97680 45.69307, 35.03643 45...  "
      ]
     },
     "execution_count": 279,
     "metadata": {},
     "output_type": "execute_result"
    }
   ],
   "source": [
    "ua_territory"
   ]
  },
  {
   "cell_type": "code",
   "execution_count": 284,
   "id": "8427f524",
   "metadata": {},
   "outputs": [],
   "source": [
    "ua_territory = ua_territory.set_crs('EPSG:4326')"
   ]
  },
  {
   "cell_type": "code",
   "execution_count": 285,
   "id": "19706f7b",
   "metadata": {},
   "outputs": [
    {
     "data": {
      "text/plain": [
       "<Geographic 2D CRS: EPSG:4326>\n",
       "Name: WGS 84\n",
       "Axis Info [ellipsoidal]:\n",
       "- Lat[north]: Geodetic latitude (degree)\n",
       "- Lon[east]: Geodetic longitude (degree)\n",
       "Area of Use:\n",
       "- name: World.\n",
       "- bounds: (-180.0, -90.0, 180.0, 90.0)\n",
       "Datum: World Geodetic System 1984 ensemble\n",
       "- Ellipsoid: WGS 84\n",
       "- Prime Meridian: Greenwich"
      ]
     },
     "execution_count": 285,
     "metadata": {},
     "output_type": "execute_result"
    }
   ],
   "source": [
    "ua_territory.crs"
   ]
  },
  {
   "cell_type": "code",
   "execution_count": 287,
   "id": "6bc87506",
   "metadata": {},
   "outputs": [],
   "source": [
    "data_copy = ua_territory.copy()\n",
    "data_copy = data_copy.to_crs({'proj':'cea'})\n",
    "ua_territory['poly_area'] = data_copy['geometry'].area/ 10**6"
   ]
  },
  {
   "cell_type": "code",
   "execution_count": 288,
   "id": "6682949b",
   "metadata": {},
   "outputs": [
    {
     "data": {
      "text/html": [
       "<div>\n",
       "<style scoped>\n",
       "    .dataframe tbody tr th:only-of-type {\n",
       "        vertical-align: middle;\n",
       "    }\n",
       "\n",
       "    .dataframe tbody tr th {\n",
       "        vertical-align: top;\n",
       "    }\n",
       "\n",
       "    .dataframe thead th {\n",
       "        text-align: right;\n",
       "    }\n",
       "</style>\n",
       "<table border=\"1\" class=\"dataframe\">\n",
       "  <thead>\n",
       "    <tr style=\"text-align: right;\">\n",
       "      <th></th>\n",
       "      <th>id</th>\n",
       "      <th>name</th>\n",
       "      <th>geometry</th>\n",
       "      <th>poly_area</th>\n",
       "    </tr>\n",
       "  </thead>\n",
       "  <tbody>\n",
       "    <tr>\n",
       "      <th>0</th>\n",
       "      <td>22397871</td>\n",
       "      <td>Russian occupation in Chernihiv region</td>\n",
       "      <td>MULTIPOLYGON (((30.65255 51.34204, 30.69649 51...</td>\n",
       "      <td>1284.457517</td>\n",
       "    </tr>\n",
       "    <tr>\n",
       "      <th>1</th>\n",
       "      <td>22397844</td>\n",
       "      <td>Russian occupation in Kyiv region</td>\n",
       "      <td>MULTIPOLYGON (((29.99079 51.48292, 29.98229 51...</td>\n",
       "      <td>1920.719180</td>\n",
       "    </tr>\n",
       "    <tr>\n",
       "      <th>2</th>\n",
       "      <td>22397831</td>\n",
       "      <td>Russian occupation in Luhansk region</td>\n",
       "      <td>MULTIPOLYGON (((39.69841 49.04973, 39.72519 49...</td>\n",
       "      <td>1515.047367</td>\n",
       "    </tr>\n",
       "    <tr>\n",
       "      <th>3</th>\n",
       "      <td>22397830</td>\n",
       "      <td>Russian occupation in Kharkiv region</td>\n",
       "      <td>MULTIPOLYGON (((35.57099 50.45468, 35.45975 50...</td>\n",
       "      <td>3382.676242</td>\n",
       "    </tr>\n",
       "    <tr>\n",
       "      <th>4</th>\n",
       "      <td>22397828</td>\n",
       "      <td>Russian occupation in Sumy region</td>\n",
       "      <td>MULTIPOLYGON (((34.09059 51.67073, 34.16337 51...</td>\n",
       "      <td>7988.009032</td>\n",
       "    </tr>\n",
       "    <tr>\n",
       "      <th>5</th>\n",
       "      <td>22397843</td>\n",
       "      <td>Russian occupation Kherson region</td>\n",
       "      <td>MULTIPOLYGON (((34.89464 45.75686, 34.95812 45...</td>\n",
       "      <td>14164.568567</td>\n",
       "    </tr>\n",
       "    <tr>\n",
       "      <th>6</th>\n",
       "      <td>22397706</td>\n",
       "      <td>Zmiyiny</td>\n",
       "      <td>MULTIPOLYGON (((30.23988 45.14589, 30.33463 45...</td>\n",
       "      <td>527.473756</td>\n",
       "    </tr>\n",
       "    <tr>\n",
       "      <th>7</th>\n",
       "      <td>21864893</td>\n",
       "      <td>russiainvadedukraine</td>\n",
       "      <td>MULTIPOLYGON (((39.79403 48.59222, 39.79707 48...</td>\n",
       "      <td>16632.542248</td>\n",
       "    </tr>\n",
       "    <tr>\n",
       "      <th>10</th>\n",
       "      <td>21191074</td>\n",
       "      <td>Occupied Crimea</td>\n",
       "      <td>MULTIPOLYGON (((34.97680 45.69307, 35.03643 45...</td>\n",
       "      <td>26689.319410</td>\n",
       "    </tr>\n",
       "  </tbody>\n",
       "</table>\n",
       "</div>"
      ],
      "text/plain": [
       "          id                                    name  \\\n",
       "0   22397871  Russian occupation in Chernihiv region   \n",
       "1   22397844       Russian occupation in Kyiv region   \n",
       "2   22397831    Russian occupation in Luhansk region   \n",
       "3   22397830    Russian occupation in Kharkiv region   \n",
       "4   22397828       Russian occupation in Sumy region   \n",
       "5   22397843       Russian occupation Kherson region   \n",
       "6   22397706                                 Zmiyiny   \n",
       "7   21864893                    russiainvadedukraine   \n",
       "10  21191074                         Occupied Crimea   \n",
       "\n",
       "                                             geometry     poly_area  \n",
       "0   MULTIPOLYGON (((30.65255 51.34204, 30.69649 51...   1284.457517  \n",
       "1   MULTIPOLYGON (((29.99079 51.48292, 29.98229 51...   1920.719180  \n",
       "2   MULTIPOLYGON (((39.69841 49.04973, 39.72519 49...   1515.047367  \n",
       "3   MULTIPOLYGON (((35.57099 50.45468, 35.45975 50...   3382.676242  \n",
       "4   MULTIPOLYGON (((34.09059 51.67073, 34.16337 51...   7988.009032  \n",
       "5   MULTIPOLYGON (((34.89464 45.75686, 34.95812 45...  14164.568567  \n",
       "6   MULTIPOLYGON (((30.23988 45.14589, 30.33463 45...    527.473756  \n",
       "7   MULTIPOLYGON (((39.79403 48.59222, 39.79707 48...  16632.542248  \n",
       "10  MULTIPOLYGON (((34.97680 45.69307, 35.03643 45...  26689.319410  "
      ]
     },
     "execution_count": 288,
     "metadata": {},
     "output_type": "execute_result"
    }
   ],
   "source": [
    "ua_territory"
   ]
  },
  {
   "cell_type": "code",
   "execution_count": 292,
   "id": "7ae76db9",
   "metadata": {},
   "outputs": [
    {
     "data": {
      "text/plain": [
       "74104.81331960809"
      ]
     },
     "execution_count": 292,
     "metadata": {},
     "output_type": "execute_result"
    }
   ],
   "source": [
    "ua_territory['poly_area'].sum()"
   ]
  },
  {
   "cell_type": "code",
   "execution_count": null,
   "id": "9438cd2b",
   "metadata": {},
   "outputs": [],
   "source": []
  }
 ],
 "metadata": {
  "kernelspec": {
   "display_name": "Python 3 (ipykernel)",
   "language": "python",
   "name": "python3"
  },
  "language_info": {
   "codemirror_mode": {
    "name": "ipython",
    "version": 3
   },
   "file_extension": ".py",
   "mimetype": "text/x-python",
   "name": "python",
   "nbconvert_exporter": "python",
   "pygments_lexer": "ipython3",
   "version": "3.10.9"
  }
 },
 "nbformat": 4,
 "nbformat_minor": 5
}
